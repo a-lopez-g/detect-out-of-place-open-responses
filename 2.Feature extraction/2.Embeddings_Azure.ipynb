{
 "cells": [
  {
   "cell_type": "code",
   "execution_count": 1,
   "metadata": {},
   "outputs": [],
   "source": [
    "import pandas as pd\n",
    "import numpy as np\n",
    "import nltk\n",
    "import openai"
   ]
  },
  {
   "cell_type": "markdown",
   "metadata": {},
   "source": [
    "### 1.Azure Embeddings"
   ]
  },
  {
   "cell_type": "code",
   "execution_count": 2,
   "metadata": {},
   "outputs": [],
   "source": [
    "openai.api_type = \"azure\"\n",
    "openai.api_base = \"\"\n",
    "openai.api_version = \"2023-03-15-preview\"\n",
    "openai.api_key = \"\"\n",
    "\n",
    "def get_embedding_azure(text, embedding_model, deployment_id):\n",
    "    response = openai.Embedding.create(\n",
    "        input=text,\n",
    "        engine=embedding_model,\n",
    "        deployment_id = deployment_id\n",
    "    )\n",
    "    return response['data'][0]['embedding']\n",
    "\n",
    "\n",
    "def compute_embeddings(df, asr_column_name: str) :\n",
    "    # Compute Azure Embeddings\n",
    "    df[f\"embedding_{asr_column_name}\"] = df[asr_column_name].apply(lambda x: get_embedding_azure(x,embedding_model = \"\", deployment_id = \"\"))\n",
    "    return df"
   ]
  },
  {
   "cell_type": "code",
   "execution_count": 4,
   "metadata": {},
   "outputs": [],
   "source": [
    "df = pd.read_csv(\"../1.Database/dataset_out_of_place_open_responses.csv\")"
   ]
  },
  {
   "cell_type": "markdown",
   "metadata": {},
   "source": [
    "#### 1.1 Preprocess text"
   ]
  },
  {
   "cell_type": "code",
   "execution_count": null,
   "metadata": {},
   "outputs": [],
   "source": [
    "from clean_asr_service import CleanASRService\n",
    "\n",
    "cleanASRservice = CleanASRService()\n",
    "\n",
    "# Normalize text, delete duplicates etc\n",
    "df[\"cleaned_asr\"] = df.asr.apply(lambda x: cleanASRservice.execute(x, delete_stopwords=False))\n",
    "\n",
    "# Normalize text, delete duplicates etc + delete stopwords\n",
    "# Not use \"no\" and \"sí\" as stopwords\n",
    "stopword_es = nltk.corpus.stopwords.words('spanish')\n",
    "stopword_es.remove(\"sí\")\n",
    "stopword_es.remove(\"no\")\n",
    "df[\"cleaned_asr_without_stopw\"] = df.asr.apply(lambda x: cleanASRservice.execute(x, stopwords_list=stopword_es,delete_stopwords=True))"
   ]
  },
  {
   "cell_type": "markdown",
   "metadata": {},
   "source": [
    "#### 1.2 Compute Azure Embeddings"
   ]
  },
  {
   "cell_type": "code",
   "execution_count": 6,
   "metadata": {},
   "outputs": [],
   "source": [
    "df = compute_embeddings(df,\"asr\")\n",
    "df = compute_embeddings(df,\"cleaned_asr\")\n",
    "df = compute_embeddings(df,\"cleaned_asr_without_stopw\")\n",
    "# Save encoding database\n",
    "df.to_csv(f\"Azure_{embedding_model}}_embeddings.csv\")"
   ]
  }
 ],
 "metadata": {
  "kernelspec": {
   "display_name": "Python 3",
   "language": "python",
   "name": "python3"
  },
  "language_info": {
   "codemirror_mode": {
    "name": "ipython",
    "version": 3
   },
   "file_extension": ".py",
   "mimetype": "text/x-python",
   "name": "python",
   "nbconvert_exporter": "python",
   "pygments_lexer": "ipython3",
   "version": "3.10.6"
  },
  "orig_nbformat": 4
 },
 "nbformat": 4,
 "nbformat_minor": 2
}
