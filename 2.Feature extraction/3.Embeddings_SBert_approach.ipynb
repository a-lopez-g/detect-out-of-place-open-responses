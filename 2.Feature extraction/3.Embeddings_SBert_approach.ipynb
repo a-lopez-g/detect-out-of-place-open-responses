{
 "cells": [
  {
   "cell_type": "code",
   "execution_count": 1,
   "metadata": {},
   "outputs": [],
   "source": [
    "import pandas as pd\n",
    "import numpy as np\n",
    "import matplotlib.pyplot as plt\n",
    "import matplotlib\n",
    "\n",
    "from sklearn.cluster import KMeans\n",
    "from sklearn.manifold import TSNE\n",
    "\n",
    "import nltk"
   ]
  },
  {
   "cell_type": "code",
   "execution_count": 2,
   "metadata": {},
   "outputs": [
    {
     "name": "stderr",
     "output_type": "stream",
     "text": [
      "/home/andrea/Desktop/detect_open_responses/env/lib/python3.10/site-packages/tqdm/auto.py:21: TqdmWarning: IProgress not found. Please update jupyter and ipywidgets. See https://ipywidgets.readthedocs.io/en/stable/user_install.html\n",
      "  from .autonotebook import tqdm as notebook_tqdm\n"
     ]
    }
   ],
   "source": [
    "import sentence_transformers\n",
    "from sentence_transformers import SentenceTransformer, util"
   ]
  },
  {
   "cell_type": "markdown",
   "metadata": {},
   "source": [
    "### 1.SBert Embeddings"
   ]
  },
  {
   "cell_type": "code",
   "execution_count": 10,
   "metadata": {},
   "outputs": [],
   "source": [
    "df = pd.read_csv(\"../1.Database/dataset_out_of_place_open_responses.csv\")"
   ]
  },
  {
   "cell_type": "code",
   "execution_count": 11,
   "metadata": {},
   "outputs": [],
   "source": [
    "def initialize_model(model_name = \"paraphrase-multilingual-mpnet-base-v2\"):\n",
    "    sentence_transformer_model = SentenceTransformer(model_name)\n",
    "    return sentence_transformer_model\n",
    "\n",
    "def compute_embeddings(sentence_transformer_model, training: str):\n",
    "    embeddings = sentence_transformer_model.encode(training, convert_to_tensor = True)\n",
    "    return embeddings.numpy()"
   ]
  },
  {
   "cell_type": "markdown",
   "metadata": {},
   "source": [
    "#### 1.Preprocess text"
   ]
  },
  {
   "cell_type": "code",
   "execution_count": null,
   "metadata": {},
   "outputs": [],
   "source": [
    "from clean_asr_service import CleanASRService\n",
    "\n",
    "cleanASRservice = CleanASRService()\n",
    "\n",
    "# Normalize text, delete duplicates etc\n",
    "df[\"cleaned_asr\"] = df.asr.apply(lambda x: cleanASRservice.execute(x, delete_stopwords=False))\n",
    "\n",
    "# Normalize text, delete duplicates etc + delete stopwords\n",
    "# Not use \"no\" and \"sí\" as stopwords\n",
    "stopword_es = nltk.corpus.stopwords.words('spanish')\n",
    "stopword_es.remove(\"sí\")\n",
    "stopword_es.remove(\"no\")\n",
    "df[\"cleaned_asr_without_stopw\"] = df.asr.apply(lambda x: cleanASRservice.execute(x, stopwords_list=stopword_es,delete_stopwords=True))"
   ]
  },
  {
   "cell_type": "markdown",
   "metadata": {},
   "source": [
    "#### 1.2 Compute SBert embeddings"
   ]
  },
  {
   "cell_type": "code",
   "execution_count": 13,
   "metadata": {},
   "outputs": [],
   "source": [
    "# Compute embeddings\n",
    "sentence_transformer_model = initialize_model()\n",
    "df[\"embedding_asr\"] = df.asr.apply(lambda x: compute_embeddings(sentence_transformer_model,x))\n",
    "df[\"embedding_cleaned_asr\"] = df.cleaned_asr.apply(lambda x: compute_embeddings(sentence_transformer_model,x))\n",
    "df[\"embedding_cleaned_asr_without_stopw\"] = df.cleaned_asr_without_stopw.apply(lambda x: compute_embeddings(sentence_transformer_model,x))\n",
    "# Save encoding database\n",
    "df.to_csv(\"SBERT_embeddings.csv\")"
   ]
  }
 ],
 "metadata": {
  "kernelspec": {
   "display_name": "env",
   "language": "python",
   "name": "python3"
  },
  "language_info": {
   "codemirror_mode": {
    "name": "ipython",
    "version": 3
   },
   "file_extension": ".py",
   "mimetype": "text/x-python",
   "name": "python",
   "nbconvert_exporter": "python",
   "pygments_lexer": "ipython3",
   "version": "3.10.6"
  },
  "orig_nbformat": 4
 },
 "nbformat": 4,
 "nbformat_minor": 2
}
